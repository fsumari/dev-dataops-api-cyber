{
 "cells": [
  {
   "cell_type": "markdown",
   "id": "7ea3aa05-4126-40ce-8b63-f8a42285cfdc",
   "metadata": {},
   "source": [
    "# Variables"
   ]
  },
  {
   "cell_type": "code",
   "execution_count": 20,
   "id": "499230ea-3518-4142-9f35-22fb78134e99",
   "metadata": {
    "tags": []
   },
   "outputs": [],
   "source": [
    "#!pip install cybersource-rest-client-python"
   ]
  },
  {
   "cell_type": "markdown",
   "id": "869d3e76-2afc-4d1e-92d3-7e1554c9b3d5",
   "metadata": {
    "tags": []
   },
   "source": [
    "## DEV"
   ]
  },
  {
   "cell_type": "code",
   "execution_count": null,
   "id": "9a040c10-48be-4825-8e9b-c5eac71e4a72",
   "metadata": {
    "tags": []
   },
   "outputs": [],
   "source": [
    "%%writefile .env\n",
    "\n",
    "GCP_PROJECT_ID=dev-izipay-advanced-analytics\n",
    "BUCKET_NAME=dev-ingesta-izipay-fx33\n",
    "SECRET_TOKEN=izi-cyber-token-7rMVpUvdo8T3BlbkFJvlPEtwcw\n",
    "\n",
    "DEPLOY_SERVICE_ACCOUNT=dev-izipay-gcai-api-intgr@dev-izipay-advanced-analytics.iam.gserviceaccount.com\n",
    "DEPLOY_SERVICE_NAME=dev-izi-cyber-api-v1"
   ]
  },
  {
   "cell_type": "markdown",
   "id": "95d32fe7-0246-4fc6-9fdc-fe0bdafd93d9",
   "metadata": {
    "tags": []
   },
   "source": [
    "## PRD"
   ]
  },
  {
   "cell_type": "code",
   "execution_count": 2,
   "id": "340810a5-d903-48b3-8ffa-90b349103b1f",
   "metadata": {
    "tags": []
   },
   "outputs": [
    {
     "name": "stdout",
     "output_type": "stream",
     "text": [
      "Overwriting .env\n"
     ]
    }
   ],
   "source": [
    "%%writefile .env\n",
    "\n",
    "GCP_PROJECT_ID=prd-izipay-data-storage\n",
    "BUCKET_NAME=prd-ingesta-izipay-fx32\n",
    "SECRET_TOKEN=prd-izipay-token-7rMVpUvdo8T3BlbkFJvlPEtwcw\n",
    "\n",
    "DEPLOY_SERVICE_ACCOUNT=prd-izipay-gcai-api-intgr@prd-izipay-advanced-analytics.iam.gserviceaccount.com\n",
    "DEPLOY_SERVICE_NAME=prd-izi-cyber-api-v1"
   ]
  },
  {
   "cell_type": "markdown",
   "id": "8ee61f44-1a48-4b93-a3d1-76cf4a6e97c1",
   "metadata": {},
   "source": [
    "# Get Variables"
   ]
  },
  {
   "cell_type": "code",
   "execution_count": null,
   "id": "c681fdba-f3ab-43fa-af57-290f46e9d3db",
   "metadata": {
    "tags": []
   },
   "outputs": [],
   "source": [
    "import os\n",
    "from dotenv import load_dotenv\n",
    "\n",
    "load_dotenv(\".env\")\n",
    "\n",
    "GCP_PROJECT_ID = os.getenv('GCP_PROJECT_ID')\n",
    "BUCKET_NAME = os.getenv('BUCKET_NAME')\n",
    "SECRET_TOKEN = os.getenv('SECRET_TOKEN')\n",
    "\n",
    "DEPLOY_SERVICE_ACCOUNT = os.getenv('DEPLOY_SERVICE_ACCOUNT')\n",
    "DEPLOY_SERVICE_NAME = os.getenv('DEPLOY_SERVICE_NAME')\n",
    "\n",
    "#    --service-account $DEPLOY_SERVICE_ACCOUNT \\\n",
    "SECRET_TOKEN, BUCKET_NAME, DEPLOY_SERVICE_ACCOUNT, DEPLOY_SERVICE_NAME"
   ]
  },
  {
   "cell_type": "markdown",
   "id": "495b72a4-abe1-4c33-82b1-58743237c0c5",
   "metadata": {
    "tags": []
   },
   "source": [
    "# API Chat"
   ]
  },
  {
   "cell_type": "code",
   "execution_count": null,
   "id": "444a1166-4baf-40b9-a179-fc92e5f5bc9d",
   "metadata": {
    "tags": []
   },
   "outputs": [],
   "source": [
    "DIRECTORY='service_api'\n",
    "!mkdir -p $DIRECTORY"
   ]
  },
  {
   "cell_type": "code",
   "execution_count": 4,
   "id": "13b0fe09-c3b3-46a5-b311-fd917e8cf311",
   "metadata": {
    "tags": []
   },
   "outputs": [
    {
     "name": "stdout",
     "output_type": "stream",
     "text": [
      "Overwriting service_api/requirements.txt\n"
     ]
    }
   ],
   "source": [
    "%%writefile $DIRECTORY/requirements.txt\n",
    "numpy==1.26.4\n",
    "pandas==2.2.2\n",
    "pyarrow\n",
    "urllib3==1.26.16\n",
    "requests\n",
    "fastapi\n",
    "pydantic\n",
    "uvicorn\n",
    "cybersource-rest-client-python\n",
    "google-cloud-storage\n",
    "gunicorn==20.1.0"
   ]
  },
  {
   "cell_type": "code",
   "execution_count": 5,
   "id": "af8e7959-3ebf-47a1-b275-cd420da1821d",
   "metadata": {
    "tags": []
   },
   "outputs": [
    {
     "name": "stdout",
     "output_type": "stream",
     "text": [
      "Overwriting service_api/Dockerfile\n"
     ]
    }
   ],
   "source": [
    "%%writefile $DIRECTORY/Dockerfile\n",
    "\n",
    "# Start from a base image\n",
    "FROM python:3.11\n",
    "\n",
    "ENV PYTHONUNBUFFERED True\n",
    "#ENV PATH=\"/root/.local/bin:${PATH}\"\n",
    "\n",
    "# Set the working directory\n",
    "WORKDIR /app\n",
    "\n",
    "# Copy the requirements file into the container\n",
    "COPY requirements.txt requirements.txt\n",
    "\n",
    "# Install the required packages\n",
    "RUN pip install --upgrade pip\n",
    "RUN pip install --no-cache-dir -r requirements.txt\n",
    "\n",
    "# Expose the app port\n",
    "# EXPOSE 80\n",
    "ENV PORT=80\n",
    "EXPOSE $PORT\n",
    "\n",
    "COPY . ./\n",
    "# Run command\n",
    "# CMD [\"uvicorn\", \"app:app\", \"--host\", \"0.0.0.0\", \"--port\", $PORT]\n",
    "CMD exec uvicorn main:app --host 0.0.0.0 --port ${PORT}"
   ]
  },
  {
   "cell_type": "code",
   "execution_count": 6,
   "id": "4e374946-3318-4d21-999e-70720ff53cac",
   "metadata": {
    "tags": []
   },
   "outputs": [
    {
     "name": "stdout",
     "output_type": "stream",
     "text": [
      "Overwriting service_api/deploy.sh\n"
     ]
    }
   ],
   "source": [
    "%%writefile $DIRECTORY/deploy.sh\n",
    "\n",
    "export $(xargs < ../.env)\n",
    "\n",
    "PROJECT_ID=$GCP_PROJECT_ID\n",
    "\n",
    "DEPLOY_SERVICE_ACCOUNT=$DEPLOY_SERVICE_ACCOUNT\n",
    "DEPLOY_SERVICE_NAME=$DEPLOY_SERVICE_NAME\n",
    "\n",
    "BUCKET_NAME=$BUCKET_NAME\n",
    "SECRET_TOKEN=$SECRET_TOKEN\n",
    "\n",
    "REGION='us-central1'\n",
    "CLOUD_RUN_PROJECT_NAME=$DEPLOY_SERVICE_NAME\n",
    "\n",
    "echo $CLOUD_RUN_PROJECT_NAME\n",
    "echo $REGION\n",
    "echo $DEPLOY_SERVICE_ACCOUNT\n",
    "echo 'project id-> ' $PROJECT_ID\n",
    "\n",
    "gcloud run deploy ${CLOUD_RUN_PROJECT_NAME} \\\n",
    "    --region $REGION \\\n",
    "    --project $PROJECT_ID \\\n",
    "    --allow-unauthenticated \\\n",
    "    --cpu-boost \\\n",
    "    --cpu=2 \\\n",
    "    --memory=4Gi \\\n",
    "    --min-instances=0 \\\n",
    "    --max-instances=5 \\\n",
    "    --service-account $DEPLOY_SERVICE_ACCOUNT \\\n",
    "    --set-env-vars=\"GCP_PROJECT_ID=$PROJECT_ID\" \\\n",
    "    --set-env-vars=\"SECRET_TOKEN=$SECRET_TOKEN\" \\\n",
    "    --set-env-vars=\"BUCKET_NAME=$BUCKET_NAME\" \\\n",
    "    --verbosity=debug \\\n",
    "    --source .\n",
    "\n",
    "SERVICE_URL=$(gcloud run services describe $CLOUD_RUN_PROJECT_NAME --format 'value(status.url)' --project $PROJECT_ID --region $REGION)\n",
    "echo \"SERVICE_URL: $SERVICE_URL\""
   ]
  },
  {
   "cell_type": "code",
   "execution_count": 7,
   "id": "36010c67-445f-4481-b59e-7ea7c76f1dae",
   "metadata": {
    "tags": []
   },
   "outputs": [],
   "source": [
    "ORGANIZATION_ID = os.getenv('ORGANIZATION_ID', \"my-secret-token\")\n",
    "MERCHANT_KEY_ID = os.getenv('MERCHANT_KEY_ID', \"my-secret-token\")\n",
    "MERCHANT_SECREY_KEY_ID = os.getenv('MERCHANT_SECREY_KEY_ID', \"my-secret-token\")"
   ]
  },
  {
   "cell_type": "markdown",
   "id": "da95c070-5f0f-483c-9070-9f3d3be2ffdf",
   "metadata": {},
   "source": [
    "## Scripts"
   ]
  },
  {
   "cell_type": "code",
   "execution_count": 8,
   "id": "19aab0b0-29a1-475a-9dc0-7d1edab9c104",
   "metadata": {
    "tags": []
   },
   "outputs": [
    {
     "name": "stdout",
     "output_type": "stream",
     "text": [
      "Overwriting service_api/Configuration.py\n"
     ]
    }
   ],
   "source": [
    "%%writefile $DIRECTORY/Configuration.py\n",
    "\n",
    "import os\n",
    "from CyberSource.logging.log_configuration import LogConfiguration\n",
    "\n",
    "class Configuration:\n",
    "    def __init__(self, organization_id, merchant_id, merchant_secret_id):\n",
    "        self.authentication_type =\"http_signature\"\n",
    "        self.merchantid = organization_id\n",
    "        self.run_environment = \"api.cybersource.com\"\n",
    "        self.request_json_path = \"\"\n",
    "        # JWT PARAMETERS\n",
    "        self.key_alias = organization_id\n",
    "        self.key_pass = organization_id\n",
    "        self.key_file_name = organization_id\n",
    "        self.keys_directory = os.path.join(os.getcwd(), \"resources\")\n",
    "        # HTTP PARAMETERS\n",
    "        self.merchant_keyid = merchant_id\n",
    "        self.merchant_secretkey = merchant_secret_id\n",
    "        # META KEY PARAMETERS\n",
    "        self.use_metakey = False\n",
    "        self.portfolio_id = ''\n",
    "        # CONNECTION TIMEOUT PARAMETER\n",
    "        self.timeout = 1000\n",
    "        # LOG PARAMETERS\n",
    "        self.enable_log = True\n",
    "        self.log_file_name = \"cybs\"\n",
    "        self.log_maximum_size = 10487560\n",
    "        self.log_directory = os.path.join(os.getcwd(), \"Logs\")\n",
    "        self.log_level = \"Debug\"\n",
    "        self.enable_masking = True\n",
    "        self.log_format = \"%(asctime)s - %(name)s - %(levelname)s - %(message)s\"\n",
    "        self.log_date_format = \"%Y-%m-%d %H:%M:%S\"\n",
    "        self.useMLEGlobally = False\n",
    "\n",
    "    def get_configuration(self):\n",
    "        configuration_dictionary = {}\n",
    "        configuration_dictionary[\"authentication_type\"] = self.authentication_type\n",
    "        configuration_dictionary[\"merchantid\"] = self.merchantid\n",
    "        configuration_dictionary[\"run_environment\"] = self.run_environment\n",
    "        configuration_dictionary[\"request_json_path\"] = self.request_json_path\n",
    "        configuration_dictionary[\"key_alias\"] = self.key_alias\n",
    "        configuration_dictionary[\"key_password\"] = self.key_pass\n",
    "        configuration_dictionary[\"key_file_name\"] = self.key_file_name\n",
    "        configuration_dictionary[\"keys_directory\"] = self.keys_directory\n",
    "        configuration_dictionary[\"merchant_keyid\"] = self.merchant_keyid\n",
    "        configuration_dictionary[\"merchant_secretkey\"] = self.merchant_secretkey\n",
    "        configuration_dictionary[\"use_metakey\"] = self.use_metakey\n",
    "        configuration_dictionary[\"portfolio_id\"] = self.portfolio_id\n",
    "        configuration_dictionary[\"timeout\"] = self.timeout\n",
    "        configuration_dictionary['useMLEGlobally'] = self.useMLEGlobally\n",
    "\n",
    "        log_config = LogConfiguration()\n",
    "        log_config.set_enable_log(self.enable_log)\n",
    "        log_config.set_log_directory(self.log_directory)\n",
    "        log_config.set_log_file_name(self.log_file_name)\n",
    "        log_config.set_log_maximum_size(self.log_maximum_size)\n",
    "        log_config.set_log_level(self.log_level)\n",
    "        log_config.set_enable_masking(self.enable_masking)\n",
    "        log_config.set_log_format(self.log_format)\n",
    "        log_config.set_log_date_format(self.log_date_format)\n",
    "\n",
    "        configuration_dictionary[\"log_config\"] = log_config\n",
    "        return configuration_dictionary"
   ]
  },
  {
   "cell_type": "code",
   "execution_count": 9,
   "id": "527a54ba-9372-4510-876f-3e047084f9d9",
   "metadata": {
    "tags": []
   },
   "outputs": [
    {
     "name": "stdout",
     "output_type": "stream",
     "text": [
      "Overwriting service_api/main.py\n"
     ]
    }
   ],
   "source": [
    "%%writefile $DIRECTORY/main.py\n",
    "\n",
    "import os\n",
    "import json\n",
    "import time\n",
    "import pandas as pd\n",
    "import requests\n",
    "from pydantic import BaseModel, validator\n",
    "\n",
    "from typing import Optional as OptionalType\n",
    "\n",
    "from fastapi import FastAPI, Depends\n",
    "from fastapi.responses import StreamingResponse\n",
    "from fastapi.middleware.cors import CORSMiddleware\n",
    "from fastapi import FastAPI, Header, HTTPException, Request\n",
    "\n",
    "from starlette.middleware.base import BaseHTTPMiddleware\n",
    "import logging\n",
    "\n",
    "import hashlib\n",
    "\n",
    "from datetime import datetime\n",
    "\n",
    "#from utils import Configuration\n",
    "from CyberSource import *\n",
    "from pathlib import Path\n",
    "import os\n",
    "import json\n",
    "from importlib.machinery import SourceFileLoader\n",
    "from CyberSource.api.report_downloads_api import ReportDownloadsApi\n",
    "\n",
    "config_file = os.path.join(os.getcwd(), \"Configuration.py\")\n",
    "configuration = SourceFileLoader(\"module.name\", config_file).load_module()\n",
    "\n",
    "app = FastAPI(title=\"Cyber API\",\n",
    "              description=\"\"\"Obtener datos de Cyber y ponerlos en Storage Izipay\"\"\",\n",
    "              version=\"0.0.1\"\n",
    "             )\n",
    "\n",
    "\n",
    "origins = [\"*\"]\n",
    "\n",
    "# Middlewares\n",
    "app.add_middleware(\n",
    "    CORSMiddleware,\n",
    "    allow_origins=origins,\n",
    "    allow_credentials=True,\n",
    "    allow_methods=[\"*\"],\n",
    "    allow_headers=[\"*\"],\n",
    ")\n",
    "\n",
    "# app.add_middleware(\n",
    "#     IPRestrictionMiddleware,\n",
    "#     authorized_ips=AUTHORIZED_IPS\n",
    "# )\n",
    "\n",
    "class RequestCyberModel(BaseModel):\n",
    "    organization_id: str\n",
    "    merchant_key_id: str\n",
    "    merchant_secret_key_id: str\n",
    "    report_name: str\n",
    "    fecha: str\n",
    "\n",
    "# @app.before_request\n",
    "# def restrict_ip():\n",
    "#     # Obtén la IP del cliente (usa X-Forwarded-For si estás detrás de un proxy)\n",
    "#     client_ip = request.headers.get(\"X-Forwarded-For\", request.remote_addr)\n",
    "#     # Verifica si la IP es autorizada\n",
    "#     if client_ip != AUTHORIZED_IP:\n",
    "#         return jsonify({\"error\": \"Acceso denegado\"}, 403)\n",
    "\n",
    "\n",
    "def del_none(d):\n",
    "    for key, value in list(d.items()):\n",
    "        if value is None:\n",
    "            del d[key]\n",
    "        elif isinstance(value, dict):\n",
    "            del_none(value)\n",
    "    return d\n",
    "\n",
    "def download_report(process_date, report_name, organization_id, merchant_id, merchant_secret_id):\n",
    "    organizationId = organization_id #PARAMETRIZAR\n",
    "    reportDate = process_date\n",
    "    reportName = report_name #PARAMETRIZAR\n",
    "\n",
    "    try:\n",
    "        config_obj = configuration.Configuration(organization_id=organizationId, merchant_id=merchant_id, merchant_secret_id=merchant_secret_id)\n",
    "        \n",
    "        client_config = config_obj.get_configuration()\n",
    "        api_instance = ReportDownloadsApi(client_config)\n",
    "        #api_instance.api_client.download_file_path = os.path.join(os.getcwd(), \"resources\", \"download_report.csv\")\n",
    "        api_instance.api_client.download_file_path = os.path.join(os.getcwd(), csv_path)\n",
    "        print(f\"antes del download report\\n {organizationId}, {reportDate}, {reportName}\")\n",
    "        status, headers = api_instance.download_report(reportDate, reportName, organization_id=organizationId)\n",
    "\n",
    "        print(\"Download Status : \", status)\n",
    "        print(\"Response Headers : \", headers)\n",
    "\n",
    "        print(\"Response downloaded at the location : \" + api_instance.api_client.download_file_path)\n",
    "        #write_log_audit(status)\n",
    "    except Exception as e:\n",
    "        #write_log_audit(e.status if hasattr(e, 'status') else 999)\n",
    "        print(\"\\nException when calling ReportDownloadsApi->download_report: %s\\n\" % e)\n",
    "\n",
    "def load_cyber_report(csv_path):\n",
    "    try:\n",
    "        # Intentar leer el archivo, saltando la primera fila y forzando todo a string\n",
    "        df = pd.read_csv(csv_path, dtype=str, skiprows=1)\n",
    "\n",
    "        # Verificar si el DataFrame está vacío o tiene columnas mal formateadas\n",
    "        if df.empty or any('unnamed' in col.lower() for col in df.columns):\n",
    "            print(\"❌ Error en la carga: el archivo está vacío o tiene columnas inválidas ('Unnamed').\")\n",
    "            df_cyber = pd.DataFrame()\n",
    "        else:\n",
    "            print(\"✅ Archivo cargado correctamente.\")\n",
    "            print(\"Columnas:\", df.columns.tolist())\n",
    "            print(\"Número de filas:\", len(df))\n",
    "            df_cyber = df\n",
    "\n",
    "    except Exception as e:\n",
    "        print(f\"❌ Error al intentar leer el archivo: {e}\")\n",
    "        df_cyber = pd.DataFrame()\n",
    "\n",
    "    return df_cyber\n",
    "\n",
    "def fn_ingesta(fecha, report_name, var_bucket_name, var_project_id, var_dataset_id, df_cyber):\n",
    "    from datetime import datetime, timedelta\n",
    "    import gc\n",
    "    from google.cloud import storage\n",
    "\n",
    "    fecha0 = datetime.strptime(fecha, \"%Y-%m-%d\")\n",
    "    fecha_d_1 = fecha0 - timedelta(days=1)\n",
    "    fecha_d_1yyyymmdd = fecha_d_1.strftime(\"%Y%m%d\")\n",
    "\n",
    "    try:\n",
    "        df = df_cyber.copy()\n",
    "\n",
    "        # Eliminar columnas sin cabecera\n",
    "        df = df.loc[:, ~df.columns.str.contains('^Unnamed')]\n",
    "        df = df.astype(str).replace('nan', None)\n",
    "\n",
    "        if df.empty or df.isnull().all().all():\n",
    "            print(f\"⚠️ Archivo creado para {fecha}, pero está vacío. No se cargará.\")\n",
    "        else:\n",
    "            # Guardar en Parquet\n",
    "            file_name = f\"{report_name}_{fecha_d_1yyyymmdd}.parquet\"\n",
    "            df.to_parquet(file_name, index=False)\n",
    "\n",
    "            # Subir a GCS\n",
    "            storage_client = storage.Client()\n",
    "            bucket = storage_client.bucket(var_bucket_name)\n",
    "            destination_blob_name = f\"Cybersource/Transaccional/{report_name}/{fecha_d_1yyyymmdd[:4]}/{fecha_d_1yyyymmdd[4:6]}/{file_name}\"\n",
    "            blob = bucket.blob(destination_blob_name)\n",
    "            blob.upload_from_filename(file_name)\n",
    "\n",
    "            print(f\"✅ Archivo '{file_name}' guardado en Cloud Storage en '{destination_blob_name}'\")\n",
    "            \n",
    "            if os.path.exists(file_name):\n",
    "                os.remove(file_name)\n",
    "                print(f\"Excel {file_name} temporal eliminado.\")\n",
    "\n",
    "        del df\n",
    "        gc.collect()\n",
    "\n",
    "    except Exception as e:\n",
    "        print(f\"❌ Error durante la ingesta para {fecha}: {e}\")\n",
    "\n",
    "# Home page\n",
    "@app.get(\"/\")\n",
    "def home( token: str = Header(None)):\n",
    "    if token is None or token != SECRET_TOKEN:\n",
    "        raise HTTPException(status_code=401, detail=\"Token inválido\")\n",
    "    return {\"message\": \"API Cybersource Izipay\", \"model_version\": 0.1}\n",
    "\n",
    "@app.post(\"/cyber\")\n",
    "def api_cyber(payload: RequestCyberModel, token: str = Header(None)):\n",
    "\n",
    "    if token is None or token != SECRET_TOKEN:\n",
    "        raise HTTPException(status_code=401, detail=\"Token inválido\")\n",
    "\n",
    "    # Get Data\n",
    "    data = payload.dict()\n",
    "    print('Payload:', data)\n",
    "\n",
    "    #current_date = datetime.now()\n",
    "    #formatted_date = current_date.strftime(\"%Y-%m-%d\")\n",
    "    var_bucket_name = BUCKET_NAME\n",
    "    var_project_id = GCP_PROJECT_ID\n",
    "    var_dataset_id = ''\n",
    "    var_file = ''\n",
    "    var_source =''\n",
    "    #fecha =  formatted_date\n",
    "\n",
    "    #data_input = data.get('input')\n",
    "    fecha = data.get('fecha')\n",
    "    organization_id = data.get('organization_id')\n",
    "    merchant_key_id = data.get('merchant_key_id')\n",
    "    merchant_secret_key_id = data.get('merchant_secret_key_id')\n",
    "    report_name = data.get('report_name')\n",
    "        \n",
    "    try:\n",
    "        response = {}\n",
    "\n",
    "        download_report(fecha, report_name, organization_id, merchant_key_id, merchant_secret_key_id)\n",
    "        df_cyber = load_cyber_report(csv_path=csv_path)\n",
    "        fn_ingesta(fecha, report_name, var_bucket_name, var_project_id, var_dataset_id, df_cyber)\n",
    "        response[\"success\"] = True\n",
    "        #ruta_archivo = \"/ruta/al/archivo.txt\"\n",
    "\n",
    "        if os.path.exists(csv_path):\n",
    "            os.remove(csv_path)\n",
    "            print(f\"Excel {csv_path} temporal eliminado.\")\n",
    "        return response\n",
    "    except Exception as e:\n",
    "        print(\"error ->  \",str(e))\n",
    "        raise HTTPException(status_code=401, detail=str(e))\n",
    "\n",
    "# Startup\n",
    "async def startup_event():\n",
    "    global SECRET_TOKEN\n",
    "    global GCP_PROJECT_ID\n",
    "    global BUCKET_NAME\n",
    "    global api_logger\n",
    "    global csv_path\n",
    "    GCP_PROJECT_ID = os.getenv('GCP_PROJECT_ID', \"my-secret-token\")\n",
    "    SECRET_TOKEN = os.getenv('SECRET_TOKEN', \"my-secret-token\")\n",
    "    BUCKET_NAME = os.getenv('BUCKET_NAME', \"my-secret-token\")\n",
    "        \n",
    "    # Crear carpeta si no existe\n",
    "    resources_path = 'resources'\n",
    "    os.makedirs(resources_path, exist_ok=True)\n",
    "    \n",
    "    # Crear CSV vacío\n",
    "    current_date = datetime.now()\n",
    "    csv_path = os.path.join(resources_path, f'download_report_{current_date}.csv')\n",
    "    pd.DataFrame().to_csv(csv_path, index=False)\n",
    "\n",
    "    print(f\"Archivo CSV vacío creado en: {csv_path}\")\n",
    "\n",
    "    #api_logger = FirestoreLogs(project_id=GCP_PROJECT_ID, database_id='logs-hushing-ruc',collection_name=\"collection-logs-hushing-ruc\")\n",
    "\n",
    "    # Inicializar el cliente\n",
    "    #client = bigquery.Client(project=GCP_PROJECT_ID)\n",
    "\n",
    "    # cred = credentials.ApplicationDefault()\n",
    "    # firebase_admin.initialize_app(cred, {'projectId': GCP_PROJECT_ID,})\n",
    "    # FS_CLIENT = firestore.client()\n",
    "    print(\"La aplicación se está iniciando\")\n",
    "\n",
    "app.add_event_handler(\"startup\", startup_event)"
   ]
  },
  {
   "cell_type": "markdown",
   "id": "accf6a8a-586f-4150-9df6-df55de306ea1",
   "metadata": {},
   "source": [
    "#### Steps:\n",
    "\n",
    "```sh\n",
    "cd ./service_api\n",
    "export $(xargs < ../.env)\n",
    "uvicorn main:app --reload\n",
    "```"
   ]
  },
  {
   "cell_type": "markdown",
   "id": "ee3307c8-295b-4e06-b82e-0114b9140def",
   "metadata": {
    "tags": []
   },
   "source": [
    "# Testing"
   ]
  },
  {
   "cell_type": "code",
   "execution_count": 10,
   "id": "96eae05f-ca27-44b1-98e7-2b9695310eb1",
   "metadata": {
    "tags": []
   },
   "outputs": [],
   "source": [
    "import os\n",
    "import json\n",
    "import requests\n",
    "\n",
    "secret_token = os.getenv('SECRET_TOKEN')\n",
    "\n",
    "# Localhost\n",
    "#url = \"http://127.0.0.1:8000\"\n",
    "url = \"https://dev-izi-cyber-api-v1-dl7olq7kiq-uc.a.run.app\""
   ]
  },
  {
   "cell_type": "code",
   "execution_count": 11,
   "id": "e322fd63-5ad6-4bc2-8b93-430a1a88fc5b",
   "metadata": {
    "tags": []
   },
   "outputs": [
    {
     "data": {
      "text/plain": [
       "'izi-cyber-token-7rMVpUvdo8T3BlbkFJvlPEtwcw'"
      ]
     },
     "execution_count": 11,
     "metadata": {},
     "output_type": "execute_result"
    }
   ],
   "source": [
    "secret_token"
   ]
  },
  {
   "cell_type": "markdown",
   "id": "27379138-009d-4958-970e-02c7179458e3",
   "metadata": {},
   "source": [
    "## Ping"
   ]
  },
  {
   "cell_type": "code",
   "execution_count": 12,
   "id": "b3dd0e90-95e5-486d-87c7-a092b39f4191",
   "metadata": {
    "tags": []
   },
   "outputs": [],
   "source": [
    "endpoint = f\"{url}\"\n",
    "headers = {'token': secret_token}\n",
    "response = requests.get(endpoint, headers=headers)"
   ]
  },
  {
   "cell_type": "code",
   "execution_count": 13,
   "id": "a34b6d23-9631-4116-909c-4cea92621094",
   "metadata": {
    "tags": []
   },
   "outputs": [
    {
     "data": {
      "text/plain": [
       "<Response [200]>"
      ]
     },
     "execution_count": 13,
     "metadata": {},
     "output_type": "execute_result"
    }
   ],
   "source": [
    "response"
   ]
  },
  {
   "cell_type": "code",
   "execution_count": 14,
   "id": "ac246d1a-90c1-45ad-b445-912d84f4957a",
   "metadata": {
    "tags": []
   },
   "outputs": [
    {
     "data": {
      "text/plain": [
       "{'message': 'API Cybersource Izipay', 'model_version': 0.1}"
      ]
     },
     "execution_count": 14,
     "metadata": {},
     "output_type": "execute_result"
    }
   ],
   "source": [
    "response.json()"
   ]
  },
  {
   "cell_type": "markdown",
   "id": "9b4908bd-8f44-40c5-ad56-827fd21bac36",
   "metadata": {},
   "source": [
    "## Cyber"
   ]
  },
  {
   "cell_type": "markdown",
   "id": "a0700f16-de6b-41de-a61c-db92064e42fd",
   "metadata": {},
   "source": [
    "### 1. TRR DAILY"
   ]
  },
  {
   "cell_type": "code",
   "execution_count": 15,
   "id": "c6be45c2-71ed-4a10-9eb7-5ececf24eebc",
   "metadata": {
    "tags": []
   },
   "outputs": [],
   "source": [
    "from datetime import datetime"
   ]
  },
  {
   "cell_type": "code",
   "execution_count": 16,
   "id": "916529a4-e511-44a9-8bb3-43f37ccd221a",
   "metadata": {
    "tags": []
   },
   "outputs": [],
   "source": [
    "endpoint = f\"{url}/cyber\"\n",
    "headers = {'token': secret_token}"
   ]
  },
  {
   "cell_type": "code",
   "execution_count": 17,
   "id": "342456c5-995e-4ed2-9c1e-16e08e689d4c",
   "metadata": {
    "tags": []
   },
   "outputs": [],
   "source": [
    "ORGANIZATION_ID_TRR_DAILY=\"izipay_master_acct\"\n",
    "MERCHANT_KEY_ID_TRR_DAILY=\"98c3b49d-0dc0-4a35-933c-0037d1789462\"\n",
    "MERCHANT_SECRET_KEY_ID_TRR_DAILY=\"/mxDSoyXaym+HDoVtqPm8zbdQ3Poos3CO3ZHlIEHOxc==\"\n",
    "REPORT_NAME_TRR_DAILY=\"TRR_daily\""
   ]
  },
  {
   "cell_type": "code",
   "execution_count": 18,
   "id": "58ed6552-77e5-4163-922f-5276cc8d272d",
   "metadata": {
    "tags": []
   },
   "outputs": [],
   "source": [
    "data = {}\n",
    "data[\"organization_id\"] = ORGANIZATION_ID_TRR_DAILY\n",
    "data[\"merchant_key_id\"] = MERCHANT_KEY_ID_TRR_DAILY\n",
    "data[\"merchant_secret_key_id\"] = MERCHANT_SECRET_KEY_ID_TRR_DAILY\n",
    "data[\"report_name\"] = REPORT_NAME_TRR_DAILY\n",
    "data[\"fecha\"] = \"2025-07-14\""
   ]
  },
  {
   "cell_type": "code",
   "execution_count": 19,
   "id": "208dd7db-f9ad-4104-b1bb-87e4fc229efa",
   "metadata": {
    "tags": []
   },
   "outputs": [],
   "source": [
    "current_date = datetime.now()\n",
    "formatted_date = current_date.strftime(\"%Y-%m-%d\")\n",
    "data[\"fecha\"] = formatted_date"
   ]
  },
  {
   "cell_type": "code",
   "execution_count": 20,
   "id": "5accefd1-ce3b-49ee-ab16-a788a760363b",
   "metadata": {
    "tags": []
   },
   "outputs": [
    {
     "data": {
      "text/plain": [
       "str"
      ]
     },
     "execution_count": 20,
     "metadata": {},
     "output_type": "execute_result"
    }
   ],
   "source": [
    "type(formatted_date)"
   ]
  },
  {
   "cell_type": "code",
   "execution_count": 21,
   "id": "e2c53535-517e-46c8-85c5-e2575803ccaf",
   "metadata": {
    "tags": []
   },
   "outputs": [],
   "source": [
    "data[\"fecha\"] = \"2025-07-14\""
   ]
  },
  {
   "cell_type": "code",
   "execution_count": 22,
   "id": "5ecd7d47-e12d-4bf8-be78-87246713cfd2",
   "metadata": {
    "tags": []
   },
   "outputs": [],
   "source": [
    "response = requests.post(endpoint, json=data, headers=headers)"
   ]
  },
  {
   "cell_type": "code",
   "execution_count": 23,
   "id": "34a993e5-87d5-4bd8-8e07-0c325d4afc5e",
   "metadata": {
    "tags": []
   },
   "outputs": [],
   "source": [
    "response_result = response.json()"
   ]
  },
  {
   "cell_type": "code",
   "execution_count": 24,
   "id": "b2251ae6-412e-46c9-81ce-3f9c91c8a545",
   "metadata": {
    "tags": []
   },
   "outputs": [
    {
     "data": {
      "text/plain": [
       "{'success': True}"
      ]
     },
     "execution_count": 24,
     "metadata": {},
     "output_type": "execute_result"
    }
   ],
   "source": [
    "response_result"
   ]
  },
  {
   "cell_type": "markdown",
   "id": "590fcb56-05d7-4955-8951-2feeff9fe9f3",
   "metadata": {},
   "source": [
    "### 2. TRR LOW DIARIO"
   ]
  },
  {
   "cell_type": "code",
   "execution_count": 135,
   "id": "df23dccf-0b92-4176-929c-269ece5687d6",
   "metadata": {},
   "outputs": [],
   "source": [
    "ORGANIZATION_ID_TRR_LOW_DIARIO=\"izipay_low\"\n",
    "MERCHANT_KEY_ID_TRR_LOW_DIARIO=\"a4a51476-564b-41f8-b95a-50a3374dfd2e\"\n",
    "MERCHANT_SECRET_KEY_ID_TRR_LOW_DIARIO=\"JnlUrHHtGXf41VBWilrJP74CXx7mDCqrHMMQztMVlsk=\"\n",
    "REPORT_NAME_TRR_LOW_DIARIO=\"TRR-LOW-DIARIO\""
   ]
  },
  {
   "cell_type": "code",
   "execution_count": 136,
   "id": "d9b5c54a-ea06-4259-a2c6-11999fb46b6c",
   "metadata": {},
   "outputs": [],
   "source": [
    "data = {}\n",
    "data[\"organization_id\"] = ORGANIZATION_ID_TRR_DAILY\n",
    "data[\"merchant_key_id\"] = MERCHANT_KEY_ID_TRR_DAILY\n",
    "data[\"merchant_secret_key_id\"] = MERCHANT_SECRET_KEY_ID_TRR_DAILY\n",
    "data[\"report_name\"] = REPORT_NAME_TRR_DAILY\n",
    "data[\"fecha\"] = \"2025-07-14\""
   ]
  },
  {
   "cell_type": "code",
   "execution_count": 137,
   "id": "a278210c-356f-40a2-b170-68386691a198",
   "metadata": {},
   "outputs": [],
   "source": [
    "response = requests.post(endpoint, json=data, headers=headers)"
   ]
  },
  {
   "cell_type": "code",
   "execution_count": 138,
   "id": "69c58ef1-0541-438b-9b6c-aa22c1d180c5",
   "metadata": {},
   "outputs": [],
   "source": [
    "response_result = response.json()"
   ]
  },
  {
   "cell_type": "code",
   "execution_count": 139,
   "id": "058cb5e5-0771-40c8-83d9-3626a600499e",
   "metadata": {},
   "outputs": [
    {
     "data": {
      "text/plain": [
       "{'success': True}"
      ]
     },
     "execution_count": 139,
     "metadata": {},
     "output_type": "execute_result"
    }
   ],
   "source": [
    "response_result"
   ]
  },
  {
   "cell_type": "markdown",
   "id": "49060a09-d0c6-43b5-b3c7-866144af0358",
   "metadata": {},
   "source": [
    "# Scheduling"
   ]
  },
  {
   "cell_type": "markdown",
   "id": "2fcfb243-6c64-45e5-9c02-00f74a28aa6a",
   "metadata": {},
   "source": [
    "## TRR Dayli"
   ]
  },
  {
   "cell_type": "code",
   "execution_count": 34,
   "id": "3171940c-b1f4-4298-8cf3-9763f7771475",
   "metadata": {
    "tags": []
   },
   "outputs": [
    {
     "name": "stdout",
     "output_type": "stream",
     "text": [
      "Overwriting service_api/job-cyber-trr-dayli.sh\n"
     ]
    }
   ],
   "source": [
    "%%writefile $DIRECTORY/job-cyber-trr-dayli.sh\n",
    "\n",
    "PROJECT_ID=\"dev-izipay-advanced-analytics\"\n",
    "JOB_NAME=\"job_api_cyber_trr_daily_3am\"\n",
    "REGION=\"us-central1\"\n",
    "CRON_SCHEDULE=\"10 3 * * *\"\n",
    "TIME_ZONE=\"America/Lima\"\n",
    "RUN_URL=\"https://dev-izi-cyber-api-v1-dl7olq7kiq-uc.a.run.app/cyber\"\n",
    "FECHA=$(date +%F)\n",
    "\n",
    "BODY=\"{\n",
    "    \\\"organization_id\\\": \\\"izipay_master_acct\\\",\n",
    "    \\\"merchant_key_id\\\": \\\"98c3b49d-0dc0-4a35-933c-0037d1789462\\\",\n",
    "    \\\"merchant_secret_key_id\\\": \\\"/mxDSoyXaym+HDoVtqPm8zbdQ3Poos3CO3ZHlIEHOxc==\\\",\n",
    "    \\\"report_name\\\": \\\"TRR_daily\\\",\n",
    "    \\\"fecha\\\": \\\"$FECHA\\\"\n",
    "}\"\n",
    "\n",
    "echo $BODY\n",
    "\n",
    "HEADERS='Content-Type=application/json, token=izi-cyber-token-7rMVpUvdo8T3BlbkFJvlPEtwcw'\n",
    "\n",
    "gcloud scheduler jobs create http $JOB_NAME \\\n",
    "  --project=$PROJECT_ID \\\n",
    "  --location=$REGION \\\n",
    "  --schedule=\"$CRON_SCHEDULE\" \\\n",
    "  --time-zone=\"$TIME_ZONE\" \\\n",
    "  --uri=\"$RUN_URL\" \\\n",
    "  --http-method=POST \\\n",
    "  --message-body=\"$BODY\" \\\n",
    "  --headers=\"$HEADERS\""
   ]
  },
  {
   "cell_type": "code",
   "execution_count": null,
   "id": "69f85571-0194-47cd-a786-335e05100efe",
   "metadata": {},
   "outputs": [],
   "source": [
    "  # --retry-count=3 \\\n",
    "  # --min-backoff=20s \\\n",
    "  # --max-backoff=300s \\\n",
    "  # --max-doublings=2"
   ]
  },
  {
   "cell_type": "code",
   "execution_count": 10,
   "id": "50f03912-345b-4220-b11a-ae2c2708f692",
   "metadata": {
    "tags": []
   },
   "outputs": [
    {
     "name": "stdout",
     "output_type": "stream",
     "text": [
      "Overwriting service_api/job-cyber-trr-low-diario.sh\n"
     ]
    }
   ],
   "source": [
    "%%writefile $DIRECTORY/job-cyber-dmdr-low-diario.sh\n",
    "\n",
    "PROJECT_ID=\"dev-izipay-advanced-analytics\"\n",
    "JOB_NAME=\"job_api_cyber_dmdr_low_diario_3am\"\n",
    "REGION=\"us-central1\"\n",
    "CRON_SCHEDULE=\"20 3 * * *\"\n",
    "TIME_ZONE=\"America/Lima\"\n",
    "RUN_URL=\"https://dev-izi-cyber-api-v1-dl7olq7kiq-uc.a.run.app/cyber\"\n",
    "FECHA=$(date +%F)\n",
    "\n",
    "BODY=\"{\n",
    "    \\\"organization_id\\\": \\\"izipay_low\\\",\n",
    "    \\\"merchant_key_id\\\": \\\"a8fe761c-6179-487c-863b-ffb2dc03e2b1\\\",\n",
    "    \\\"merchant_secret_key_id\\\": \\\"pPudDBsvHEvvzh7LZAj/1td0FwnWLhQnDZsCnik2HbM=\\\",\n",
    "    \\\"report_name\\\": \\\"DMDR-LOW-DIARIO\\\",\n",
    "    \\\"fecha\\\": \\\"$FECHA\\\"\n",
    "}\"\n",
    "\n",
    "echo $BODY\n",
    "\n",
    "HEADERS='Content-Type=application/json, token=izi-cyber-token-7rMVpUvdo8T3BlbkFJvlPEtwcw'\n",
    "\n",
    "gcloud scheduler jobs create http $JOB_NAME \\\n",
    "  --project=$PROJECT_ID \\\n",
    "  --location=$REGION \\\n",
    "  --schedule=\"$CRON_SCHEDULE\" \\\n",
    "  --time-zone=\"$TIME_ZONE\" \\\n",
    "  --uri=\"$RUN_URL\" \\\n",
    "  --http-method=POST \\\n",
    "  --message-body=\"$BODY\" \\\n",
    "  --headers=\"$HEADERS\""
   ]
  },
  {
   "cell_type": "code",
   "execution_count": null,
   "id": "7cab0040-593a-4b54-869f-c4bacefde1ec",
   "metadata": {},
   "outputs": [],
   "source": [
    "%%writefile $DIRECTORY/job-cyber-dmdr-high-diario.sh\n",
    "\n",
    "PROJECT_ID=\"dev-izipay-advanced-analytics\"\n",
    "JOB_NAME=\"job_api_cyber_dmdr_high_diario_3am\"\n",
    "REGION=\"us-central1\"\n",
    "CRON_SCHEDULE=\"30 3 * * *\"\n",
    "TIME_ZONE=\"America/Lima\"\n",
    "RUN_URL=\"https://dev-izi-cyber-api-v1-dl7olq7kiq-uc.a.run.app/cyber\"\n",
    "FECHA=$(date +%F)\n",
    "\n",
    "BODY=\"{\n",
    "    \\\"organization_id\\\": \\\"izipay_high\\\",\n",
    "    \\\"merchant_key_id\\\": \\\"a8fe761c-6179-487c-863b-ffb2dc03e2b1\\\",\n",
    "    \\\"merchant_secret_key_id\\\": \\\"pPudDBsvHEvvzh7LZAj/1td0FwnWLhQnDZsCnik2HbM=\\\",\n",
    "    \\\"report_name\\\": \\\"DMDR-HIGH-DIARIO\\\",\n",
    "    \\\"fecha\\\": \\\"$FECHA\\\"\n",
    "}\"\n",
    "\n",
    "echo $BODY\n",
    "\n",
    "HEADERS='Content-Type=application/json, token=izi-cyber-token-7rMVpUvdo8T3BlbkFJvlPEtwcw'\n",
    "\n",
    "gcloud scheduler jobs create http $JOB_NAME \\\n",
    "  --project=$PROJECT_ID \\\n",
    "  --location=$REGION \\\n",
    "  --schedule=\"$CRON_SCHEDULE\" \\\n",
    "  --time-zone=\"$TIME_ZONE\" \\\n",
    "  --uri=\"$RUN_URL\" \\\n",
    "  --http-method=POST \\\n",
    "  --message-body=\"$BODY\" \\\n",
    "  --headers=\"$HEADERS\""
   ]
  },
  {
   "cell_type": "code",
   "execution_count": null,
   "id": "2c6a694c-16f0-402f-99bb-afa2b20a9042",
   "metadata": {},
   "outputs": [],
   "source": []
  }
 ],
 "metadata": {
  "environment": {
   "kernel": "web-scrap",
   "name": "workbench-notebooks.m129",
   "type": "gcloud",
   "uri": "us-docker.pkg.dev/deeplearning-platform-release/gcr.io/workbench-notebooks:m129"
  },
  "kernelspec": {
   "display_name": "Python (Web Scraping) (Local)",
   "language": "python",
   "name": "web-scrap"
  },
  "language_info": {
   "codemirror_mode": {
    "name": "ipython",
    "version": 3
   },
   "file_extension": ".py",
   "mimetype": "text/x-python",
   "name": "python",
   "nbconvert_exporter": "python",
   "pygments_lexer": "ipython3",
   "version": "3.13.3"
  },
  "widgets": {
   "application/vnd.jupyter.widget-state+json": {
    "state": {},
    "version_major": 2,
    "version_minor": 0
   }
  }
 },
 "nbformat": 4,
 "nbformat_minor": 5
}
